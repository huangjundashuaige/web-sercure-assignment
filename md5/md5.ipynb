{
 "cells": [
  {
   "cell_type": "code",
   "execution_count": 145,
   "metadata": {},
   "outputs": [],
   "source": [
    "from functools import reduce\n",
    "import md5_params"
   ]
  },
  {
   "cell_type": "code",
   "execution_count": 149,
   "metadata": {},
   "outputs": [],
   "source": [
    "def H_md5(a,b,c,d,message_part):\n",
    "    #print(1)\n",
    "    for i in range(4):\n",
    "        for j in range(16):\n",
    "            g_b_c_d = md5_params.g_functions[i](b,c,d)\n",
    "            X_k = int.from_bytes(message_part[4*md5_params.indexs_function_per_interation[i](j):4*md5_params.indexs_function_per_interation[i](j)+4],byteorder=\"little\")\n",
    "            temp1 = a + g_b_c_d + X_k + md5_params.T[i*16+j]\n",
    "            temp2 = b + md5_params.left_rotate(temp1,md5_params.s[i*16+j])\n",
    "            a , b , c , d = d , temp2 & 0xFFFFFFFF , b ,c\n",
    "    return a , b ,c ,d"
   ]
  },
  {
   "cell_type": "code",
   "execution_count": 150,
   "metadata": {},
   "outputs": [],
   "source": [
    "def md5(message):\n",
    "    \n",
    "    message = bytearray(message,encoding=\"utf-8\")\n",
    "    if len(message) < 8:\n",
    "        lack_length = 8-len(message)\n",
    "        remaind_padding = bytearray(\"0\",encoding=\"utf-8\")\n",
    "        for i in range(8-1-len(message)):\n",
    "            remaind_padding.append(0x00)\n",
    "        remaind_padding+=message[-lack_length:]\n",
    "    else:\n",
    "        remaind_padding=message[-8:]\n",
    "    #print(remaind_padding)\n",
    "    if 8*len(message) == 448:\n",
    "        message.append(0x80)\n",
    "        for i in range(63):\n",
    "            message.append(0x00)\n",
    "    else:\n",
    "        message.append(0x80)\n",
    "        while len(message) % 64 !=56:\n",
    "            #print(len(message))\n",
    "            message.append(0x00)\n",
    "    message+=remaind_padding\n",
    "    a,b,c,d = md5_params.IV\n",
    "    #print(len(message))\n",
    "    for x in range(len(message)//64):\n",
    "        a,b,c,d = H_md5(a,b,c,d,message[x*64:x*64+64])\n",
    "    #print(len(a))\n",
    "    return reduce(lambda x,y:x+y,map(lambda x : (x&0xFFFFFFFF).to_bytes(4,byteorder=\"little\"),[a,b,c,d]))"
   ]
  },
  {
   "cell_type": "code",
   "execution_count": null,
   "metadata": {},
   "outputs": [],
   "source": []
  },
  {
   "cell_type": "code",
   "execution_count": 152,
   "metadata": {},
   "outputs": [
    {
     "name": "stdout",
     "output_type": "stream",
     "text": [
      "inout the text you want digest'{:032x}'.format(int.from_bytes(md5(\"1234567890\"),byteorder=\"little\"))\n",
      "the byte format output is b'\\xcad\\x04\\xea\\x1c\\xeex\\xfe\\xa3\\x9e\\x1fc\\xe9\\xcai\\xe4'\n",
      "the bytearray format output is e469cae9631f9ea3fe78ee1cea0464ca\n"
     ]
    }
   ],
   "source": [
    "if __name__ == \"__main__\":\n",
    "    text = input(\"inout the text you want digest\")\n",
    "    print(\"the byte format output is {}\".format(md5(text)))\n",
    "    print(\"the bytearray format output is {}\".format('{:032x}'.format(int.from_bytes(md5(text),byteorder=\"little\"))))"
   ]
  },
  {
   "cell_type": "code",
   "execution_count": null,
   "metadata": {},
   "outputs": [],
   "source": []
  }
 ],
 "metadata": {
  "kernelspec": {
   "display_name": "Python 3",
   "language": "python",
   "name": "python3"
  },
  "language_info": {
   "codemirror_mode": {
    "name": "ipython",
    "version": 3
   },
   "file_extension": ".py",
   "mimetype": "text/x-python",
   "name": "python",
   "nbconvert_exporter": "python",
   "pygments_lexer": "ipython3",
   "version": "3.7.0"
  }
 },
 "nbformat": 4,
 "nbformat_minor": 2
}
